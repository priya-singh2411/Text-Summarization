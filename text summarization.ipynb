{
 "cells": [
  {
   "cell_type": "code",
   "execution_count": null,
   "metadata": {},
   "outputs": [],
   "source": [
    "import nltk\n",
    "from nltk.corpus import stopwords\n",
    "from nltk.cluster.util import cosine_distance\n",
    "import numpy as np\n",
    "import networkx as nx"
   ]
  },
  {
   "cell_type": "code",
   "execution_count": null,
   "metadata": {},
   "outputs": [],
   "source": [
    "#Function to read the files line by line\n",
    "def read_file(file_name):\n",
    "    file = open(file_name,'r')\n",
    "    filedata = file.readlines()\n",
    "    article = filedata[0].split('. ')\n",
    "    sentences = []\n",
    "    for sentences in article:\n",
    "        s = sentences.replace('[^a-zA-Z]',' ').split(' ')\n",
    "        sentences = sentences + str(s)\n",
    "    list(sentences).pop()\n",
    "    return sentences\n",
    "        \n",
    "    \n",
    "    "
   ]
  },
  {
   "cell_type": "code",
   "execution_count": null,
   "metadata": {},
   "outputs": [],
   "source": []
  },
  {
   "cell_type": "code",
   "execution_count": null,
   "metadata": {},
   "outputs": [],
   "source": [
    "#Function for sentence similarity\n",
    "def sentence_similarity(sent1,sent2,stopwords=None):\n",
    "    if stopwords is None:\n",
    "        stopwords = []\n",
    "        sent1 = [w.lower() for w in sent1]\n",
    "        sent2 = [w.lower() for w in sent2]\n",
    "        all_words = list(set(sent1+sent2)) #to get unique characters in both Sent1 and Sent2\n",
    "        #Creating Vectors \n",
    "        vector1 = [0]*len(all_words)\n",
    "        vector2 = [0]*len(all_words)\n",
    "        for w in sent1:\n",
    "            if w in stopwords:\n",
    "                continue\n",
    "            vector1[all_words.index(w)] += 1\n",
    "        for w in sent2:\n",
    "            if w in stopwords:\n",
    "                continue\n",
    "            vector2[all_words.index(w)] += 1\n",
    "        return 1-cosine_distance(vector1,vector2)\n",
    "        "
   ]
  },
  {
   "cell_type": "code",
   "execution_count": null,
   "metadata": {},
   "outputs": [],
   "source": [
    "#Generating similarity matrix to find out the similar words\n",
    "def gen_sim_matrix(sentences,stopwords):\n",
    "    stop_words = stopwords.words('english')\n",
    "    similarity_matrix = np.zeros((len(sentences),len(sentences)))\n",
    "    for idx1 in range(len(sentences)):\n",
    "        for idx2 in range(len(sentences)):\n",
    "            if idx1 == idx2:\n",
    "                continue\n",
    "            similarity_matrix[idx1][idx2]=sentence_similarity(sentences[idx1],sentences[idx2],stop_words)\n",
    "    return similarity_matrix    \n",
    "    "
   ]
  },
  {
   "cell_type": "code",
   "execution_count": null,
   "metadata": {},
   "outputs": [],
   "source": [
    "#generating the summary\n",
    "from nltk.corpus import stopwords\n",
    "def generate_summary(file_name,top_n=5):\n",
    "    stop_words = stopwords.words('english')\n",
    "    summarize_text = []\n",
    "    sentences = read_file(file_name)\n",
    "    sentence_similarity_matrix = gen_sim_matrix(sentences,stop_words)\n",
    "    sentence_similarity_graph = nx.from_numpy_array(sentence_similarity_matrix)\n",
    "    scores = nx.pagerank(sentence_similarity_graph)\n",
    "    ranked_sentences = sorted(((scores[i],s) for i,s in enumerate(sentences)),reverse=True)\n",
    "    for i in range(top_n):\n",
    "        summarize_text = summarize_text + ranked_sentences[i][1]\n",
    "    print('Summary \\n','. '.join(summarize_text))\n",
    "        \n",
    "\n",
    "    "
   ]
  },
  {
   "cell_type": "code",
   "execution_count": null,
   "metadata": {},
   "outputs": [],
   "source": [
    "generate_summary('abc.story',2)"
   ]
  },
  {
   "cell_type": "code",
   "execution_count": null,
   "metadata": {},
   "outputs": [],
   "source": []
  }
 ],
 "metadata": {
  "kernelspec": {
   "display_name": "Python 3",
   "language": "python",
   "name": "python3"
  },
  "language_info": {
   "codemirror_mode": {
    "name": "ipython",
    "version": 3
   },
   "file_extension": ".py",
   "mimetype": "text/x-python",
   "name": "python",
   "nbconvert_exporter": "python",
   "pygments_lexer": "ipython3",
   "version": "3.7.6"
  }
 },
 "nbformat": 4,
 "nbformat_minor": 4
}
